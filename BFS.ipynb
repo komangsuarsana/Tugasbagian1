{
 "cells": [
  {
   "cell_type": "code",
   "execution_count": 4,
   "id": "6378830c",
   "metadata": {},
   "outputs": [
    {
     "name": "stdout",
     "output_type": "stream",
     "text": [
      "4 3 1 9 2 10 8 7 5 6 "
     ]
    }
   ],
   "source": [
    "graph = {\n",
    "  '4' : ['3','1'],\n",
    "  '3' : ['9', '2', '4', '10'],\n",
    "  '2' : ['1', '8', '7', '5'],\n",
    "  '5' : ['6'],\n",
    "  '6' : [],\n",
    "  '1' : [],\n",
    "  '9' : [],\n",
    "  '10': [],\n",
    "  '7' : [],\n",
    "  '8' : [],\n",
    "    \n",
    "    \n",
    "}\n",
    "\n",
    "visited = [] # List to keep track of visited nodes.\n",
    "queue = []     #Initialize a queue\n",
    "\n",
    "def bfs(visited, graph, node):\n",
    "  visited.append(node)\n",
    "  queue.append(node)\n",
    "\n",
    "  while queue:\n",
    "    s = queue.pop(0) \n",
    "    print (s, end = \" \") \n",
    "\n",
    "    for neighbour in graph[s]:\n",
    "      if neighbour not in visited:\n",
    "        visited.append(neighbour)\n",
    "        queue.append(neighbour)\n",
    "\n",
    "# Driver Code\n",
    "bfs(visited, graph, '4')"
   ]
  },
  {
   "cell_type": "code",
   "execution_count": null,
   "id": "0bcdef73",
   "metadata": {},
   "outputs": [],
   "source": []
  }
 ],
 "metadata": {
  "kernelspec": {
   "display_name": "Python 3 (ipykernel)",
   "language": "python",
   "name": "python3"
  },
  "language_info": {
   "codemirror_mode": {
    "name": "ipython",
    "version": 3
   },
   "file_extension": ".py",
   "mimetype": "text/x-python",
   "name": "python",
   "nbconvert_exporter": "python",
   "pygments_lexer": "ipython3",
   "version": "3.10.0rc2"
  }
 },
 "nbformat": 4,
 "nbformat_minor": 5
}
